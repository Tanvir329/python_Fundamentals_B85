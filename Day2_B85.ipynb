{
 "cells": [
  {
   "cell_type": "code",
   "execution_count": null,
   "id": "643ad5e5",
   "metadata": {},
   "outputs": [],
   "source": [
    "#Introduction to Python programming"
   ]
  },
  {
   "cell_type": "code",
   "execution_count": null,
   "id": "d39c0b54",
   "metadata": {},
   "outputs": [],
   "source": [
    "#Variables in python:"
   ]
  },
  {
   "cell_type": "code",
   "execution_count": 1,
   "id": "3fef9215",
   "metadata": {},
   "outputs": [],
   "source": [
    "x = 2\n",
    "y = 3"
   ]
  },
  {
   "cell_type": "code",
   "execution_count": 2,
   "id": "57558cb2",
   "metadata": {},
   "outputs": [
    {
     "name": "stdout",
     "output_type": "stream",
     "text": [
      "5\n"
     ]
    }
   ],
   "source": [
    "z = x+y\n",
    "print(z)"
   ]
  },
  {
   "cell_type": "code",
   "execution_count": 3,
   "id": "fe0b9d52",
   "metadata": {},
   "outputs": [],
   "source": [
    "#Rules for declaring variables in python\n",
    "#1) No Namespaces while declaring variables.\n",
    "#2) variable name should not start with number.\n",
    "#3) variable should not contain any special char."
   ]
  },
  {
   "cell_type": "code",
   "execution_count": 4,
   "id": "b95e7f7a",
   "metadata": {},
   "outputs": [],
   "source": [
    "# wrong variables = 1name, name@, first name"
   ]
  },
  {
   "cell_type": "code",
   "execution_count": null,
   "id": "cddc6a53",
   "metadata": {},
   "outputs": [],
   "source": []
  },
  {
   "cell_type": "code",
   "execution_count": 5,
   "id": "0079ce02",
   "metadata": {},
   "outputs": [],
   "source": [
    "#introduction to Data Types in Python."
   ]
  },
  {
   "cell_type": "code",
   "execution_count": null,
   "id": "1c73817b",
   "metadata": {},
   "outputs": [],
   "source": []
  },
  {
   "cell_type": "code",
   "execution_count": 7,
   "id": "6b5ec8c3",
   "metadata": {},
   "outputs": [],
   "source": [
    "# 1. strings\n",
    "# 2. Numbers =====> integers and floats\n",
    "# 3. list \n",
    "# 4. tuple\n",
    "# 5. Dictionaries"
   ]
  },
  {
   "cell_type": "code",
   "execution_count": null,
   "id": "d0e66a5c",
   "metadata": {},
   "outputs": [],
   "source": []
  },
  {
   "cell_type": "code",
   "execution_count": 8,
   "id": "59171ed6",
   "metadata": {},
   "outputs": [],
   "source": [
    "# Classification of data types"
   ]
  },
  {
   "cell_type": "code",
   "execution_count": 9,
   "id": "03c4bf06",
   "metadata": {},
   "outputs": [],
   "source": [
    "# 1. Mutable datatypes: which we can able to edit and alter ====> flexible in nature\n",
    "# 2. Immutable datatypes : which cannot be edited or alter ====> fixed  in nature"
   ]
  },
  {
   "cell_type": "code",
   "execution_count": 10,
   "id": "4493d571",
   "metadata": {},
   "outputs": [],
   "source": [
    "# Def : A string is a series of characters declared in quotes.\n",
    "#     it is classified as immutable datatype.\n",
    "\n",
    "# define string in syntax : 1. single quote ' '  2. double quotes \" \""
   ]
  },
  {
   "cell_type": "code",
   "execution_count": null,
   "id": "871894cb",
   "metadata": {},
   "outputs": [],
   "source": []
  },
  {
   "cell_type": "code",
   "execution_count": 11,
   "id": "a677f492",
   "metadata": {},
   "outputs": [
    {
     "name": "stdout",
     "output_type": "stream",
     "text": [
      "Tanvir\n"
     ]
    }
   ],
   "source": [
    "name = 'Tanvir'\n",
    "print(name)"
   ]
  },
  {
   "cell_type": "code",
   "execution_count": null,
   "id": "a23b1168",
   "metadata": {},
   "outputs": [],
   "source": []
  },
  {
   "cell_type": "code",
   "execution_count": 12,
   "id": "d393f8cd",
   "metadata": {},
   "outputs": [],
   "source": [
    "# introduction to string methods(formules) : \n",
    "# 1. type method: use to check datatype."
   ]
  },
  {
   "cell_type": "code",
   "execution_count": 13,
   "id": "b04a2b73",
   "metadata": {},
   "outputs": [
    {
     "data": {
      "text/plain": [
       "str"
      ]
     },
     "execution_count": 13,
     "metadata": {},
     "output_type": "execute_result"
    }
   ],
   "source": [
    "type(name)"
   ]
  },
  {
   "cell_type": "code",
   "execution_count": 14,
   "id": "a54f4ab5",
   "metadata": {},
   "outputs": [
    {
     "name": "stdout",
     "output_type": "stream",
     "text": [
      "tanvir attar\n"
     ]
    }
   ],
   "source": [
    "fname = \"tanvir attar\"\n",
    "print(fname)"
   ]
  },
  {
   "cell_type": "code",
   "execution_count": null,
   "id": "cb9a7923",
   "metadata": {},
   "outputs": [],
   "source": [
    "# Tilte method : correct first capital letter."
   ]
  },
  {
   "cell_type": "code",
   "execution_count": 15,
   "id": "f07db904",
   "metadata": {},
   "outputs": [
    {
     "name": "stdout",
     "output_type": "stream",
     "text": [
      "Tanvir Attar\n"
     ]
    }
   ],
   "source": [
    "print(fname.title())"
   ]
  },
  {
   "cell_type": "code",
   "execution_count": null,
   "id": "18030776",
   "metadata": {},
   "outputs": [],
   "source": []
  }
 ],
 "metadata": {
  "kernelspec": {
   "display_name": "Python 3 (ipykernel)",
   "language": "python",
   "name": "python3"
  },
  "language_info": {
   "codemirror_mode": {
    "name": "ipython",
    "version": 3
   },
   "file_extension": ".py",
   "mimetype": "text/x-python",
   "name": "python",
   "nbconvert_exporter": "python",
   "pygments_lexer": "ipython3",
   "version": "3.11.5"
  }
 },
 "nbformat": 4,
 "nbformat_minor": 5
}
