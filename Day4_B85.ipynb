{
 "cells": [
  {
   "cell_type": "code",
   "execution_count": 40,
   "id": "57a845f3",
   "metadata": {},
   "outputs": [],
   "source": [
    "# Introduction to list data type"
   ]
  },
  {
   "cell_type": "code",
   "execution_count": 41,
   "id": "7467c9d1",
   "metadata": {},
   "outputs": [],
   "source": [
    "# Def: list is a collection of items in a particular order.\n",
    "# classfication: is is calssified as mutable datat type."
   ]
  },
  {
   "cell_type": "code",
   "execution_count": 42,
   "id": "4d86c776",
   "metadata": {},
   "outputs": [],
   "source": [
    "# syntax: [] "
   ]
  },
  {
   "cell_type": "code",
   "execution_count": 43,
   "id": "a6d6e2ee",
   "metadata": {},
   "outputs": [],
   "source": [
    "# Example"
   ]
  },
  {
   "cell_type": "code",
   "execution_count": 44,
   "id": "47bba335",
   "metadata": {},
   "outputs": [
    {
     "name": "stdout",
     "output_type": "stream",
     "text": [
      "['tanvir', 'huzaifa', 'khatija', 'suresh', 'naveen']\n"
     ]
    }
   ],
   "source": [
    "student = ['tanvir', 'huzaifa', 'khatija', 'suresh', 'naveen'] # [0,1,2,3,4]\n",
    "print(students)"
   ]
  },
  {
   "cell_type": "code",
   "execution_count": 45,
   "id": "6f8964a5",
   "metadata": {},
   "outputs": [],
   "source": [
    "# Understanding the concept of indexing **"
   ]
  },
  {
   "cell_type": "code",
   "execution_count": 53,
   "id": "fdc40f7f",
   "metadata": {},
   "outputs": [],
   "source": [
    "# indexing : [0,1,2,3,4,......,n]"
   ]
  },
  {
   "cell_type": "code",
   "execution_count": null,
   "id": "e97bf3a7",
   "metadata": {},
   "outputs": [],
   "source": [
    "# req : want to access huzaifa "
   ]
  },
  {
   "cell_type": "code",
   "execution_count": 51,
   "id": "33fa60cb",
   "metadata": {},
   "outputs": [
    {
     "name": "stdout",
     "output_type": "stream",
     "text": [
      "huzaifa\n"
     ]
    }
   ],
   "source": [
    "print(student[1])"
   ]
  },
  {
   "cell_type": "code",
   "execution_count": null,
   "id": "a09956fe",
   "metadata": {},
   "outputs": [],
   "source": [
    "# from negative index counts from 1"
   ]
  },
  {
   "cell_type": "code",
   "execution_count": 52,
   "id": "f48a2aaf",
   "metadata": {},
   "outputs": [
    {
     "name": "stdout",
     "output_type": "stream",
     "text": [
      "Khatija\n"
     ]
    }
   ],
   "source": [
    "print(student[2].title())"
   ]
  },
  {
   "cell_type": "code",
   "execution_count": null,
   "id": "6b926ff2",
   "metadata": {},
   "outputs": [],
   "source": []
  },
  {
   "cell_type": "code",
   "execution_count": null,
   "id": "ca372eb1",
   "metadata": {},
   "outputs": [],
   "source": [
    "# 1. adding new elements in list\n",
    "# 2. modify elements in list\n",
    "# 3. delete elements in list"
   ]
  },
  {
   "cell_type": "code",
   "execution_count": null,
   "id": "50895a45",
   "metadata": {},
   "outputs": [],
   "source": [
    "# Adding in list"
   ]
  },
  {
   "cell_type": "code",
   "execution_count": 54,
   "id": "2b16aaa2",
   "metadata": {},
   "outputs": [],
   "source": [
    "student.append('satish') # to add in list we use append()"
   ]
  },
  {
   "cell_type": "code",
   "execution_count": 55,
   "id": "6f311a00",
   "metadata": {},
   "outputs": [
    {
     "name": "stdout",
     "output_type": "stream",
     "text": [
      "['rubina', 'huzaifa', 'khatija', 'suresh', 'naveen', 'satish']\n"
     ]
    }
   ],
   "source": [
    "print(student)"
   ]
  },
  {
   "cell_type": "code",
   "execution_count": null,
   "id": "4be779c1",
   "metadata": {},
   "outputs": [],
   "source": [
    "# req: add name in any index "
   ]
  },
  {
   "cell_type": "code",
   "execution_count": 56,
   "id": "61e50710",
   "metadata": {},
   "outputs": [],
   "source": [
    "student.insert(2, 'anita') # insert(position, val)"
   ]
  },
  {
   "cell_type": "code",
   "execution_count": 57,
   "id": "5ee406b7",
   "metadata": {},
   "outputs": [
    {
     "name": "stdout",
     "output_type": "stream",
     "text": [
      "['rubina', 'huzaifa', 'anita', 'khatija', 'suresh', 'naveen', 'satish']\n"
     ]
    }
   ],
   "source": [
    "print(student)"
   ]
  },
  {
   "cell_type": "code",
   "execution_count": null,
   "id": "8e341858",
   "metadata": {},
   "outputs": [],
   "source": [
    "# what is the difference between append and insert method in list data type. **"
   ]
  },
  {
   "cell_type": "code",
   "execution_count": null,
   "id": "44376621",
   "metadata": {},
   "outputs": [],
   "source": []
  },
  {
   "cell_type": "code",
   "execution_count": null,
   "id": "b5ec391d",
   "metadata": {},
   "outputs": [],
   "source": [
    "# Modify list data type."
   ]
  },
  {
   "cell_type": "code",
   "execution_count": null,
   "id": "c4a947ee",
   "metadata": {},
   "outputs": [],
   "source": [
    "# req: want to modify/change khatija to rubina"
   ]
  },
  {
   "cell_type": "code",
   "execution_count": 58,
   "id": "33e79dd6",
   "metadata": {},
   "outputs": [],
   "source": [
    "student[0] = 'rubina'"
   ]
  },
  {
   "cell_type": "code",
   "execution_count": 59,
   "id": "42870722",
   "metadata": {},
   "outputs": [
    {
     "name": "stdout",
     "output_type": "stream",
     "text": [
      "['rubina', 'huzaifa', 'anita', 'khatija', 'suresh', 'naveen', 'satish']\n"
     ]
    }
   ],
   "source": [
    "print(student)"
   ]
  },
  {
   "cell_type": "code",
   "execution_count": null,
   "id": "34023c9f",
   "metadata": {},
   "outputs": [],
   "source": [
    "# delete elements in list"
   ]
  },
  {
   "cell_type": "code",
   "execution_count": null,
   "id": "f067fc84",
   "metadata": {},
   "outputs": [],
   "source": [
    "# req : delete anita name from list"
   ]
  },
  {
   "cell_type": "code",
   "execution_count": 60,
   "id": "f2fb400a",
   "metadata": {},
   "outputs": [],
   "source": [
    "del student[2]"
   ]
  },
  {
   "cell_type": "code",
   "execution_count": 61,
   "id": "8582dc75",
   "metadata": {},
   "outputs": [
    {
     "name": "stdout",
     "output_type": "stream",
     "text": [
      "['rubina', 'huzaifa', 'khatija', 'suresh', 'naveen', 'satish']\n"
     ]
    }
   ],
   "source": [
    "print(student)"
   ]
  },
  {
   "cell_type": "code",
   "execution_count": null,
   "id": "17067fb4",
   "metadata": {},
   "outputs": [],
   "source": []
  }
 ],
 "metadata": {
  "kernelspec": {
   "display_name": "Python 3 (ipykernel)",
   "language": "python",
   "name": "python3"
  },
  "language_info": {
   "codemirror_mode": {
    "name": "ipython",
    "version": 3
   },
   "file_extension": ".py",
   "mimetype": "text/x-python",
   "name": "python",
   "nbconvert_exporter": "python",
   "pygments_lexer": "ipython3",
   "version": "3.11.5"
  }
 },
 "nbformat": 4,
 "nbformat_minor": 5
}
