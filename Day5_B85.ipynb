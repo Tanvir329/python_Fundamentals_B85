{
 "cells": [
  {
   "cell_type": "code",
   "execution_count": null,
   "id": "c27f1fc8",
   "metadata": {},
   "outputs": [],
   "source": [
    "# Continuation with list"
   ]
  },
  {
   "cell_type": "code",
   "execution_count": 1,
   "id": "f612ac0e",
   "metadata": {},
   "outputs": [],
   "source": [
    "# organizing list datatype"
   ]
  },
  {
   "cell_type": "code",
   "execution_count": 2,
   "id": "9553db51",
   "metadata": {},
   "outputs": [],
   "source": [
    "car = [\"suzuki\", \"maruti\", \"hyundai\", \"benz\", \"kia\", \"audi\", \"tata\", \"bmw\"]"
   ]
  },
  {
   "cell_type": "code",
   "execution_count": 3,
   "id": "0a4881f3",
   "metadata": {},
   "outputs": [
    {
     "name": "stdout",
     "output_type": "stream",
     "text": [
      "['suzuki', 'maruti', 'hyundai', 'benz', 'kia', 'audi', 'tata', 'bmw']\n"
     ]
    }
   ],
   "source": [
    "print(car)"
   ]
  },
  {
   "cell_type": "code",
   "execution_count": null,
   "id": "3b28ad59",
   "metadata": {},
   "outputs": [],
   "source": [
    "# req: arrange in alphabetical order"
   ]
  },
  {
   "cell_type": "code",
   "execution_count": null,
   "id": "285d7898",
   "metadata": {},
   "outputs": [],
   "source": [
    "# approaches \n",
    "1. temp approach ====> we will be able to get the original defined lsit order. ===>sorted\n",
    "2. permanent approach ====> permanent changes will be applied ==========> sort"
   ]
  },
  {
   "cell_type": "code",
   "execution_count": 8,
   "id": "8282e6ff",
   "metadata": {},
   "outputs": [
    {
     "name": "stdout",
     "output_type": "stream",
     "text": [
      "['audi', 'benz', 'bmw', 'hyundai', 'kia', 'maruti', 'suzuki', 'tata']\n"
     ]
    }
   ],
   "source": [
    "print(sorted(car))"
   ]
  },
  {
   "cell_type": "code",
   "execution_count": 9,
   "id": "b9670a4b",
   "metadata": {},
   "outputs": [
    {
     "name": "stdout",
     "output_type": "stream",
     "text": [
      "['suzuki', 'maruti', 'hyundai', 'benz', 'kia', 'audi', 'tata', 'bmw']\n"
     ]
    }
   ],
   "source": [
    "print(car)"
   ]
  },
  {
   "cell_type": "code",
   "execution_count": null,
   "id": "a82ef3b5",
   "metadata": {},
   "outputs": [],
   "source": []
  },
  {
   "cell_type": "code",
   "execution_count": 10,
   "id": "d284367f",
   "metadata": {},
   "outputs": [],
   "source": [
    "# parmanent methods"
   ]
  },
  {
   "cell_type": "code",
   "execution_count": 11,
   "id": "19e27cfc",
   "metadata": {},
   "outputs": [],
   "source": [
    "car.sort()"
   ]
  },
  {
   "cell_type": "code",
   "execution_count": 12,
   "id": "9e852cdf",
   "metadata": {},
   "outputs": [
    {
     "name": "stdout",
     "output_type": "stream",
     "text": [
      "['audi', 'benz', 'bmw', 'hyundai', 'kia', 'maruti', 'suzuki', 'tata']\n"
     ]
    }
   ],
   "source": [
    "print(car)"
   ]
  },
  {
   "cell_type": "code",
   "execution_count": null,
   "id": "d17ff53a",
   "metadata": {},
   "outputs": [],
   "source": [
    "# Wht is diff btw sorted and sort methods in list datatype."
   ]
  },
  {
   "cell_type": "code",
   "execution_count": null,
   "id": "0498766f",
   "metadata": {},
   "outputs": [],
   "source": []
  },
  {
   "cell_type": "code",
   "execution_count": null,
   "id": "5efaa161",
   "metadata": {},
   "outputs": [],
   "source": [
    "# req: know no. of elements in list datatype."
   ]
  },
  {
   "cell_type": "code",
   "execution_count": 13,
   "id": "6dcb0414",
   "metadata": {},
   "outputs": [
    {
     "data": {
      "text/plain": [
       "8"
      ]
     },
     "execution_count": 13,
     "metadata": {},
     "output_type": "execute_result"
    }
   ],
   "source": [
    "len(car) #length of list"
   ]
  },
  {
   "cell_type": "code",
   "execution_count": null,
   "id": "288a70cb",
   "metadata": {},
   "outputs": [],
   "source": [
    "# req : reverse the list that has been defined"
   ]
  },
  {
   "cell_type": "code",
   "execution_count": 19,
   "id": "757b76cf",
   "metadata": {},
   "outputs": [
    {
     "name": "stdout",
     "output_type": "stream",
     "text": [
      "['audi', 'benz', 'bmw', 'hyundai', 'kia', 'maruti', 'suzuki', 'tata']\n"
     ]
    }
   ],
   "source": [
    "print(car)"
   ]
  },
  {
   "cell_type": "code",
   "execution_count": 20,
   "id": "d18a71f7",
   "metadata": {},
   "outputs": [],
   "source": [
    "car.reverse() #also done by car[::-1]"
   ]
  },
  {
   "cell_type": "code",
   "execution_count": 21,
   "id": "1835b075",
   "metadata": {},
   "outputs": [
    {
     "name": "stdout",
     "output_type": "stream",
     "text": [
      "['tata', 'suzuki', 'maruti', 'kia', 'hyundai', 'bmw', 'benz', 'audi']\n"
     ]
    }
   ],
   "source": [
    "print(car)"
   ]
  },
  {
   "cell_type": "code",
   "execution_count": null,
   "id": "666b9c4e",
   "metadata": {},
   "outputs": [],
   "source": []
  },
  {
   "cell_type": "code",
   "execution_count": null,
   "id": "82d9b5cf",
   "metadata": {},
   "outputs": [],
   "source": [
    "# introduction to slicing list **"
   ]
  },
  {
   "cell_type": "code",
   "execution_count": 22,
   "id": "fa5463b9",
   "metadata": {},
   "outputs": [],
   "source": [
    "students = ['parvez', 'naveen', 'khadija','roja', 'karthik', 'joseph']"
   ]
  },
  {
   "cell_type": "code",
   "execution_count": 23,
   "id": "5f0fe2cb",
   "metadata": {},
   "outputs": [
    {
     "name": "stdout",
     "output_type": "stream",
     "text": [
      "['parvez', 'naveen', 'khadija', 'roja', 'karthik', 'joseph']\n"
     ]
    }
   ],
   "source": [
    "print(students)"
   ]
  },
  {
   "cell_type": "code",
   "execution_count": null,
   "id": "b7b8b904",
   "metadata": {},
   "outputs": [],
   "source": [
    "# general syntax for slicing\n",
    "[start_value : stop_value : step count]"
   ]
  },
  {
   "cell_type": "code",
   "execution_count": null,
   "id": "28c102b5",
   "metadata": {},
   "outputs": [],
   "source": [
    "# note = last value is always exclusive, to include it we have to increment  the index by +1"
   ]
  },
  {
   "cell_type": "code",
   "execution_count": 27,
   "id": "17ce7343",
   "metadata": {},
   "outputs": [],
   "source": [
    "# req: want to get parvez and naveen in slice"
   ]
  },
  {
   "cell_type": "code",
   "execution_count": 25,
   "id": "3b4e9554",
   "metadata": {},
   "outputs": [
    {
     "name": "stdout",
     "output_type": "stream",
     "text": [
      "['parvez']\n"
     ]
    }
   ],
   "source": [
    "print(students[0:1])"
   ]
  },
  {
   "cell_type": "code",
   "execution_count": 26,
   "id": "049d3c03",
   "metadata": {},
   "outputs": [
    {
     "name": "stdout",
     "output_type": "stream",
     "text": [
      "['parvez', 'naveen']\n"
     ]
    }
   ],
   "source": [
    "print(students[0:2])"
   ]
  },
  {
   "cell_type": "code",
   "execution_count": 32,
   "id": "ca8fc833",
   "metadata": {},
   "outputs": [],
   "source": [
    "# req: want khadija and roja in slice"
   ]
  },
  {
   "cell_type": "code",
   "execution_count": 33,
   "id": "8bf2f0c3",
   "metadata": {},
   "outputs": [
    {
     "name": "stdout",
     "output_type": "stream",
     "text": [
      "['khadija', 'roja']\n"
     ]
    }
   ],
   "source": [
    "print(students[2:4])"
   ]
  },
  {
   "cell_type": "code",
   "execution_count": null,
   "id": "019d29b7",
   "metadata": {},
   "outputs": [],
   "source": [
    "# req : want to"
   ]
  },
  {
   "cell_type": "code",
   "execution_count": 34,
   "id": "6de7b7ee",
   "metadata": {},
   "outputs": [
    {
     "name": "stdout",
     "output_type": "stream",
     "text": [
      "['karthik', 'joseph']\n"
     ]
    }
   ],
   "source": [
    "print(students[-2:]) # negative slicing"
   ]
  },
  {
   "cell_type": "code",
   "execution_count": 40,
   "id": "305365e2",
   "metadata": {},
   "outputs": [
    {
     "name": "stdout",
     "output_type": "stream",
     "text": [
      "['karthik', 'joseph']\n"
     ]
    }
   ],
   "source": [
    "print(students[4:6]) #increment 5 +1"
   ]
  },
  {
   "cell_type": "code",
   "execution_count": null,
   "id": "665d6028",
   "metadata": {},
   "outputs": [],
   "source": []
  },
  {
   "cell_type": "code",
   "execution_count": 41,
   "id": "df2e5ad4",
   "metadata": {},
   "outputs": [],
   "source": [
    "# using step count"
   ]
  },
  {
   "cell_type": "code",
   "execution_count": null,
   "id": "625daa0f",
   "metadata": {},
   "outputs": [],
   "source": []
  },
  {
   "cell_type": "code",
   "execution_count": 43,
   "id": "1ad56a09",
   "metadata": {},
   "outputs": [
    {
     "name": "stdout",
     "output_type": "stream",
     "text": [
      "['parvez', 'naveen', 'khadija', 'roja', 'karthik', 'joseph']\n"
     ]
    }
   ],
   "source": [
    "print(students[0:6:1])"
   ]
  },
  {
   "cell_type": "code",
   "execution_count": 44,
   "id": "651a8bea",
   "metadata": {},
   "outputs": [
    {
     "name": "stdout",
     "output_type": "stream",
     "text": [
      "['parvez', 'khadija', 'karthik']\n"
     ]
    }
   ],
   "source": [
    "print(students[0:6:2])"
   ]
  },
  {
   "cell_type": "code",
   "execution_count": 45,
   "id": "69515722",
   "metadata": {},
   "outputs": [
    {
     "name": "stdout",
     "output_type": "stream",
     "text": [
      "['parvez', 'roja']\n"
     ]
    }
   ],
   "source": [
    "print(students[0:6:3])"
   ]
  },
  {
   "cell_type": "code",
   "execution_count": null,
   "id": "b282f2bb",
   "metadata": {},
   "outputs": [],
   "source": []
  }
 ],
 "metadata": {
  "kernelspec": {
   "display_name": "Python 3 (ipykernel)",
   "language": "python",
   "name": "python3"
  },
  "language_info": {
   "codemirror_mode": {
    "name": "ipython",
    "version": 3
   },
   "file_extension": ".py",
   "mimetype": "text/x-python",
   "name": "python",
   "nbconvert_exporter": "python",
   "pygments_lexer": "ipython3",
   "version": "3.11.5"
  }
 },
 "nbformat": 4,
 "nbformat_minor": 5
}
