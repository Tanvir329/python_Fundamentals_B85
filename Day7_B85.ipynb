{
 "cells": [
  {
   "cell_type": "code",
   "execution_count": null,
   "id": "faae5249",
   "metadata": {},
   "outputs": [],
   "source": [
    "# introduction to Tuple"
   ]
  },
  {
   "cell_type": "code",
   "execution_count": null,
   "id": "4cdd3884",
   "metadata": {},
   "outputs": [],
   "source": [
    "# Def: An immutable list is called as tuple\n",
    "# classification: it is classified as immutable datatype\n",
    "# define tuple in syntax ====> ()"
   ]
  },
  {
   "cell_type": "code",
   "execution_count": null,
   "id": "6a77b7d1",
   "metadata": {},
   "outputs": [],
   "source": []
  },
  {
   "cell_type": "code",
   "execution_count": 1,
   "id": "ab4413ca",
   "metadata": {},
   "outputs": [],
   "source": [
    "student = (\"sarika\", \"Keerthi\", \"naveed\", \"joseph\")"
   ]
  },
  {
   "cell_type": "code",
   "execution_count": 2,
   "id": "1d9e4325",
   "metadata": {},
   "outputs": [
    {
     "name": "stdout",
     "output_type": "stream",
     "text": [
      "('sarika', 'Keerthi', 'naveed', 'joseph')\n"
     ]
    }
   ],
   "source": [
    "print(student)"
   ]
  },
  {
   "cell_type": "code",
   "execution_count": 3,
   "id": "f2feee96",
   "metadata": {},
   "outputs": [
    {
     "data": {
      "text/plain": [
       "tuple"
      ]
     },
     "execution_count": 3,
     "metadata": {},
     "output_type": "execute_result"
    }
   ],
   "source": [
    "type(student)"
   ]
  },
  {
   "cell_type": "code",
   "execution_count": 4,
   "id": "cb568393",
   "metadata": {},
   "outputs": [
    {
     "name": "stdout",
     "output_type": "stream",
     "text": [
      "sarika\n"
     ]
    }
   ],
   "source": [
    "print(student[0])"
   ]
  },
  {
   "cell_type": "code",
   "execution_count": 5,
   "id": "7dee2ef1",
   "metadata": {},
   "outputs": [],
   "source": [
    "#req: i want to change  sarika to sangeetha"
   ]
  },
  {
   "cell_type": "code",
   "execution_count": 6,
   "id": "90a6b40e",
   "metadata": {},
   "outputs": [
    {
     "ename": "TypeError",
     "evalue": "'tuple' object does not support item assignment",
     "output_type": "error",
     "traceback": [
      "\u001b[1;31m---------------------------------------------------------------------------\u001b[0m",
      "\u001b[1;31mTypeError\u001b[0m                                 Traceback (most recent call last)",
      "Cell \u001b[1;32mIn[6], line 1\u001b[0m\n\u001b[1;32m----> 1\u001b[0m student[\u001b[38;5;241m0\u001b[39m]\u001b[38;5;241m=\u001b[39m\u001b[38;5;124m\"\u001b[39m\u001b[38;5;124msangeetha\u001b[39m\u001b[38;5;124m\"\u001b[39m\n",
      "\u001b[1;31mTypeError\u001b[0m: 'tuple' object does not support item assignment"
     ]
    }
   ],
   "source": [
    "student[0]=\"sangeetha\"  # cant change elements in tuple."
   ]
  },
  {
   "cell_type": "code",
   "execution_count": null,
   "id": "4be3293c",
   "metadata": {},
   "outputs": [],
   "source": []
  },
  {
   "cell_type": "code",
   "execution_count": 7,
   "id": "8f60a691",
   "metadata": {},
   "outputs": [],
   "source": [
    "dimention = (200, 50)"
   ]
  },
  {
   "cell_type": "code",
   "execution_count": 8,
   "id": "bfe2252e",
   "metadata": {},
   "outputs": [
    {
     "data": {
      "text/plain": [
       "tuple"
      ]
     },
     "execution_count": 8,
     "metadata": {},
     "output_type": "execute_result"
    }
   ],
   "source": [
    "type(dimention)"
   ]
  },
  {
   "cell_type": "code",
   "execution_count": null,
   "id": "bffc9ca7",
   "metadata": {},
   "outputs": [],
   "source": []
  },
  {
   "cell_type": "code",
   "execution_count": 9,
   "id": "4793dd50",
   "metadata": {},
   "outputs": [
    {
     "name": "stdout",
     "output_type": "stream",
     "text": [
      "('sarika', 'Keerthi', 'naveed', 'joseph')\n"
     ]
    }
   ],
   "source": [
    "print(student)"
   ]
  },
  {
   "cell_type": "code",
   "execution_count": 10,
   "id": "4307e82b",
   "metadata": {},
   "outputs": [
    {
     "name": "stdout",
     "output_type": "stream",
     "text": [
      "Naveed\n"
     ]
    }
   ],
   "source": [
    "print(student[2].title())"
   ]
  },
  {
   "cell_type": "code",
   "execution_count": 13,
   "id": "a6450af9",
   "metadata": {},
   "outputs": [
    {
     "name": "stdout",
     "output_type": "stream",
     "text": [
      "Good work, sarika\n",
      "Good work, Keerthi\n",
      "Good work, naveed\n",
      "Good work, joseph\n"
     ]
    }
   ],
   "source": [
    "for a in student:\n",
    "    print(f\"Good work, {a}\")"
   ]
  },
  {
   "cell_type": "code",
   "execution_count": null,
   "id": "e74d121f",
   "metadata": {},
   "outputs": [],
   "source": []
  },
  {
   "cell_type": "code",
   "execution_count": 14,
   "id": "b119e3c1",
   "metadata": {},
   "outputs": [],
   "source": [
    "# introduction to Dictionary **"
   ]
  },
  {
   "cell_type": "code",
   "execution_count": null,
   "id": "640e01ff",
   "metadata": {},
   "outputs": [],
   "source": [
    "# Def: A dictionary (dict) is a combination of Key-Value pairs.\n",
    "# classification : It is classifies as a mutable data type means we can edit/alter elements.\n",
    "# Define in syntax =====> {}"
   ]
  },
  {
   "cell_type": "code",
   "execution_count": null,
   "id": "fa025133",
   "metadata": {},
   "outputs": [],
   "source": []
  },
  {
   "cell_type": "code",
   "execution_count": 15,
   "id": "fb449d0a",
   "metadata": {},
   "outputs": [],
   "source": [
    "alien = {\"color\" : \"green\" , \"points\" : 5 }"
   ]
  },
  {
   "cell_type": "code",
   "execution_count": 16,
   "id": "3d2f33cc",
   "metadata": {},
   "outputs": [
    {
     "name": "stdout",
     "output_type": "stream",
     "text": [
      "{'color': 'green', 'points': 5}\n"
     ]
    }
   ],
   "source": [
    "print(alien)"
   ]
  },
  {
   "cell_type": "code",
   "execution_count": null,
   "id": "2e3e43fd",
   "metadata": {},
   "outputs": [],
   "source": []
  },
  {
   "cell_type": "code",
   "execution_count": null,
   "id": "7196d83d",
   "metadata": {},
   "outputs": [],
   "source": [
    "# create facebook account"
   ]
  },
  {
   "cell_type": "code",
   "execution_count": null,
   "id": "41854459",
   "metadata": {},
   "outputs": [],
   "source": []
  },
  {
   "cell_type": "code",
   "execution_count": 41,
   "id": "bca67537",
   "metadata": {},
   "outputs": [],
   "source": [
    "user_name = {'first_name':'tanvir', 'last_name': 'attar', 'dob': '10-11-01', 'password':'admin@123'}"
   ]
  },
  {
   "cell_type": "code",
   "execution_count": 42,
   "id": "bf713d3a",
   "metadata": {},
   "outputs": [
    {
     "name": "stdout",
     "output_type": "stream",
     "text": [
      "{'first_name': 'tanvir', 'last_name': 'attar', 'dob': '10-11-01', 'password': 'admin@123'}\n"
     ]
    }
   ],
   "source": [
    "print(user_name)"
   ]
  },
  {
   "cell_type": "code",
   "execution_count": 43,
   "id": "9e286956",
   "metadata": {},
   "outputs": [
    {
     "data": {
      "text/plain": [
       "dict"
      ]
     },
     "execution_count": 43,
     "metadata": {},
     "output_type": "execute_result"
    }
   ],
   "source": [
    "type(user_name)"
   ]
  },
  {
   "cell_type": "code",
   "execution_count": null,
   "id": "d1370160",
   "metadata": {},
   "outputs": [],
   "source": []
  },
  {
   "cell_type": "code",
   "execution_count": 33,
   "id": "1d9453da",
   "metadata": {},
   "outputs": [],
   "source": [
    "# adding new Key-value pair in dict"
   ]
  },
  {
   "cell_type": "code",
   "execution_count": 44,
   "id": "aa89ceb4",
   "metadata": {},
   "outputs": [],
   "source": [
    "user_name[\"location\"] = \"Pune\""
   ]
  },
  {
   "cell_type": "code",
   "execution_count": 45,
   "id": "9c6e404b",
   "metadata": {},
   "outputs": [
    {
     "name": "stdout",
     "output_type": "stream",
     "text": [
      "{'first_name': 'tanvir', 'last_name': 'attar', 'dob': '10-11-01', 'password': 'admin@123', 'location': 'Pune'}\n"
     ]
    }
   ],
   "source": [
    "print(user_name)"
   ]
  },
  {
   "cell_type": "code",
   "execution_count": null,
   "id": "78e98296",
   "metadata": {},
   "outputs": [],
   "source": []
  },
  {
   "cell_type": "code",
   "execution_count": 37,
   "id": "5aa95707",
   "metadata": {},
   "outputs": [],
   "source": [
    "# Req: want to access key value"
   ]
  },
  {
   "cell_type": "code",
   "execution_count": 38,
   "id": "c4ffd733",
   "metadata": {},
   "outputs": [],
   "source": [
    "# Give the key and get value"
   ]
  },
  {
   "cell_type": "code",
   "execution_count": 46,
   "id": "d346dad8",
   "metadata": {},
   "outputs": [
    {
     "name": "stdout",
     "output_type": "stream",
     "text": [
      "tanvir\n"
     ]
    }
   ],
   "source": [
    "print(user_name[\"first_name\"])"
   ]
  },
  {
   "cell_type": "code",
   "execution_count": 47,
   "id": "8d6f0c99",
   "metadata": {},
   "outputs": [],
   "source": [
    "# cant get key with value. only key can give value"
   ]
  },
  {
   "cell_type": "code",
   "execution_count": 48,
   "id": "31afd325",
   "metadata": {},
   "outputs": [
    {
     "ename": "KeyError",
     "evalue": "'attar'",
     "output_type": "error",
     "traceback": [
      "\u001b[1;31m---------------------------------------------------------------------------\u001b[0m",
      "\u001b[1;31mKeyError\u001b[0m                                  Traceback (most recent call last)",
      "Cell \u001b[1;32mIn[48], line 1\u001b[0m\n\u001b[1;32m----> 1\u001b[0m \u001b[38;5;28mprint\u001b[39m(user_name[\u001b[38;5;124m'\u001b[39m\u001b[38;5;124mattar\u001b[39m\u001b[38;5;124m'\u001b[39m])\n",
      "\u001b[1;31mKeyError\u001b[0m: 'attar'"
     ]
    }
   ],
   "source": [
    "print(user_name['attar'])"
   ]
  },
  {
   "cell_type": "code",
   "execution_count": null,
   "id": "bed3fc06",
   "metadata": {},
   "outputs": [],
   "source": []
  }
 ],
 "metadata": {
  "kernelspec": {
   "display_name": "Python 3 (ipykernel)",
   "language": "python",
   "name": "python3"
  },
  "language_info": {
   "codemirror_mode": {
    "name": "ipython",
    "version": 3
   },
   "file_extension": ".py",
   "mimetype": "text/x-python",
   "name": "python",
   "nbconvert_exporter": "python",
   "pygments_lexer": "ipython3",
   "version": "3.11.5"
  }
 },
 "nbformat": 4,
 "nbformat_minor": 5
}
