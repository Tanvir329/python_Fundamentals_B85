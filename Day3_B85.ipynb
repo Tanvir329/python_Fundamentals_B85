{
 "cells": [
  {
   "cell_type": "code",
   "execution_count": 12,
   "id": "cd5bcf21",
   "metadata": {},
   "outputs": [],
   "source": [
    "# Continuation with strings"
   ]
  },
  {
   "cell_type": "code",
   "execution_count": 13,
   "id": "4ac93b73",
   "metadata": {},
   "outputs": [
    {
     "name": "stdout",
     "output_type": "stream",
     "text": [
      "Tanvir Attar\n"
     ]
    }
   ],
   "source": [
    "fname = \"tanvir attar\"\n",
    "print(fname.title())"
   ]
  },
  {
   "cell_type": "code",
   "execution_count": 14,
   "id": "de9630be",
   "metadata": {},
   "outputs": [],
   "source": [
    "# converting al letter in capital letterts"
   ]
  },
  {
   "cell_type": "code",
   "execution_count": 15,
   "id": "16c24b0e",
   "metadata": {},
   "outputs": [
    {
     "name": "stdout",
     "output_type": "stream",
     "text": [
      "TANVIR ATTAR\n"
     ]
    }
   ],
   "source": [
    "print(fname.upper())"
   ]
  },
  {
   "cell_type": "code",
   "execution_count": 16,
   "id": "ccfb05f4",
   "metadata": {},
   "outputs": [],
   "source": [
    "# introduction to f string **"
   ]
  },
  {
   "cell_type": "code",
   "execution_count": null,
   "id": "d64a74f5",
   "metadata": {},
   "outputs": [],
   "source": []
  },
  {
   "cell_type": "code",
   "execution_count": null,
   "id": "1373c25f",
   "metadata": {},
   "outputs": [],
   "source": [
    "f\"custom message {placeholder} {placeholder}.....\""
   ]
  },
  {
   "cell_type": "code",
   "execution_count": 17,
   "id": "fae82184",
   "metadata": {},
   "outputs": [],
   "source": [
    "first = \"Tanvir\""
   ]
  },
  {
   "cell_type": "code",
   "execution_count": 18,
   "id": "b21bc783",
   "metadata": {},
   "outputs": [],
   "source": [
    "last = \"Attar\""
   ]
  },
  {
   "cell_type": "code",
   "execution_count": 19,
   "id": "e7f05222",
   "metadata": {},
   "outputs": [
    {
     "name": "stdout",
     "output_type": "stream",
     "text": [
      "Tanvir Attar\n"
     ]
    }
   ],
   "source": [
    "print(f\"{first} {last}\")"
   ]
  },
  {
   "cell_type": "code",
   "execution_count": 21,
   "id": "14dfea37",
   "metadata": {},
   "outputs": [
    {
     "name": "stdout",
     "output_type": "stream",
     "text": [
      "good work Tanvir\n"
     ]
    }
   ],
   "source": [
    "print(f\"good work {first.title()}\")"
   ]
  },
  {
   "cell_type": "code",
   "execution_count": null,
   "id": "d7f819bd",
   "metadata": {},
   "outputs": [],
   "source": []
  },
  {
   "cell_type": "code",
   "execution_count": 22,
   "id": "278e1379",
   "metadata": {},
   "outputs": [],
   "source": [
    "# adding whitespaces in strings:"
   ]
  },
  {
   "cell_type": "code",
   "execution_count": 23,
   "id": "d8cf9eff",
   "metadata": {},
   "outputs": [
    {
     "name": "stdout",
     "output_type": "stream",
     "text": [
      "fav_language:pythonjavac++swiftscala\n"
     ]
    }
   ],
   "source": [
    "print(\"fav_language:pythonjavac++swiftscala\")"
   ]
  },
  {
   "cell_type": "code",
   "execution_count": 24,
   "id": "7854a4e3",
   "metadata": {},
   "outputs": [
    {
     "name": "stdout",
     "output_type": "stream",
     "text": [
      "fav_language:\n",
      "python\n",
      "java\n",
      "c++\n",
      "swift\n",
      "scala\n"
     ]
    }
   ],
   "source": [
    "print(\"fav_language:\\npython\\njava\\nc++\\nswift\\nscala\")  # \\n = new line delimiter"
   ]
  },
  {
   "cell_type": "code",
   "execution_count": 26,
   "id": "d03c4314",
   "metadata": {},
   "outputs": [
    {
     "name": "stdout",
     "output_type": "stream",
     "text": [
      "fav_language:\n",
      "\tpython\n",
      "\tjava\n",
      "\tc++\n",
      "\tswift\n",
      "\tscala\n"
     ]
    }
   ],
   "source": [
    "print(\"fav_language:\\n\\tpython\\n\\tjava\\n\\tc++\\n\\tswift\\n\\tscala\") # \\t = tab delimiter"
   ]
  },
  {
   "cell_type": "code",
   "execution_count": null,
   "id": "7938bca6",
   "metadata": {},
   "outputs": [],
   "source": []
  },
  {
   "cell_type": "code",
   "execution_count": 1,
   "id": "8dcf2624",
   "metadata": {},
   "outputs": [],
   "source": [
    "# removing whitespaces from string"
   ]
  },
  {
   "cell_type": "code",
   "execution_count": null,
   "id": "2bd68556",
   "metadata": {},
   "outputs": [],
   "source": []
  },
  {
   "cell_type": "code",
   "execution_count": 2,
   "id": "cab8d851",
   "metadata": {},
   "outputs": [
    {
     "name": "stdout",
     "output_type": "stream",
     "text": [
      " Tanvir\n"
     ]
    }
   ],
   "source": [
    "name = \" Tanvir\"\n",
    "print(name)"
   ]
  },
  {
   "cell_type": "code",
   "execution_count": 3,
   "id": "dec5fa8b",
   "metadata": {},
   "outputs": [
    {
     "name": "stdout",
     "output_type": "stream",
     "text": [
      "Tanvir \n"
     ]
    }
   ],
   "source": [
    "name1 = \"Tanvir \"\n",
    "print(name1)"
   ]
  },
  {
   "cell_type": "code",
   "execution_count": 5,
   "id": "01c4f57d",
   "metadata": {},
   "outputs": [
    {
     "data": {
      "text/plain": [
       "'Tanvir'"
      ]
     },
     "execution_count": 5,
     "metadata": {},
     "output_type": "execute_result"
    }
   ],
   "source": [
    "name.lstrip() # left strip if whitespaces are left"
   ]
  },
  {
   "cell_type": "code",
   "execution_count": 6,
   "id": "f2ee249c",
   "metadata": {},
   "outputs": [
    {
     "data": {
      "text/plain": [
       "'Tanvir'"
      ]
     },
     "execution_count": 6,
     "metadata": {},
     "output_type": "execute_result"
    }
   ],
   "source": [
    "name1.rstrip() # right strip if whitespaces are right"
   ]
  },
  {
   "cell_type": "code",
   "execution_count": 8,
   "id": "d9869fae",
   "metadata": {},
   "outputs": [
    {
     "name": "stdout",
     "output_type": "stream",
     "text": [
      "Tanvir \n"
     ]
    }
   ],
   "source": [
    "print(name1)"
   ]
  },
  {
   "cell_type": "code",
   "execution_count": 10,
   "id": "66046f03",
   "metadata": {},
   "outputs": [
    {
     "name": "stdout",
     "output_type": "stream",
     "text": [
      "Tanvir\n"
     ]
    }
   ],
   "source": [
    "name = \" Tanvir\"\n",
    "print(name.lstrip())"
   ]
  }
 ],
 "metadata": {
  "kernelspec": {
   "display_name": "Python 3 (ipykernel)",
   "language": "python",
   "name": "python3"
  },
  "language_info": {
   "codemirror_mode": {
    "name": "ipython",
    "version": 3
   },
   "file_extension": ".py",
   "mimetype": "text/x-python",
   "name": "python",
   "nbconvert_exporter": "python",
   "pygments_lexer": "ipython3",
   "version": "3.11.5"
  }
 },
 "nbformat": 4,
 "nbformat_minor": 5
}
